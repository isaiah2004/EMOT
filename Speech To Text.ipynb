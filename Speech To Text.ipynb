{
 "cells": [
  {
   "cell_type": "code",
   "execution_count": null,
   "metadata": {},
   "outputs": [],
   "source": [
    "import librosa\n",
    "from transformers import Wav2Vec2Processor, Wav2Vec2ForCTC\n",
    "import torch\n",
    "from datasets import load_metric\n",
    "\n",
    "processor = Wav2Vec2Processor.from_pretrained(\"facebook/wav2vec2-large-960h\")\n",
    "model = Wav2Vec2ForCTC.from_pretrained(\"facebook/wav2vec2-large-960h\")\n",
    "\n",
    "def transcribe_audio(audio_path):\n",
    "    speech, sampling_rate = librosa.load(audio_path, sr=16000) \n",
    "    input_values = processor(speech, return_tensors=\"pt\", sampling_rate=sampling_rate).input_values\n",
    "    with torch.no_grad():\n",
    "        logits = model(input_values).logits\n",
    "    predicted_ids = torch.argmax(logits, dim=-1)\n",
    "    text = processor.batch_decode(predicted_ids)[0]\n",
    "    return text\n",
    "\n",
    "def evaluate_transcription(generated_text, reference_text):\n",
    "    rouge = load_metric(\"rouge\")\n",
    "    results = rouge.compute(predictions=[generated_text], references=[reference_text])\n",
    "    print(\"Recall (ROUGE-1):\", results[\"rouge1\"].mid.recall)\n",
    "    print(\"Recall (ROUGE-2):\", results[\"rouge2\"].mid.recall)\n",
    "    print(\"Recall (ROUGE-L):\", results[\"rougeL\"].mid.recall)\n",
    "    print(\"ROUGE-1 score:\", results[\"rouge1\"].mid)\n",
    "    print(\"ROUGE-2 score:\", results[\"rouge2\"].mid)\n",
    "    print(\"ROUGE-L score:\", results[\"rougeL\"].mid)\n",
    "\n",
    "\n",
    "audio_path = \"E:/Virtual Memory or Demand Paging or Page Faults in operating systems-[AudioTrimmer.com].mp3\"\n",
    "transcribed_text = transcribe_audio(audio_path)\n",
    "\n",
    "reference_text = \"\"\"Now, let us see about virtual memory demand paging. We know that CPU executes a process if it resides in main memory only. A process is a collection of pages, whereas each page is a collection of instructions. So CPU executes an instruction if it resides in main memory only. But what happens if size of the process is larger than the size of the main memory? Let the size of the process is 10 GB, whereas let size of the main memory is 4 GB. So the size of the process or program is 10 GB, whereas the size of the main memory is 4 GB. But we know that CPU can execute this process only when this process resides in main memory. But it is not possible to store 10 GB of the process in 4 GB of the main memory. Why? Because main memory size here is 4 GB. So maximum it can store only 4 GB of data. So how the processor will execute this process? So this is nothing but virtual memory. Virtual memory is implemented using demand paging. The name itself specifies the meaning.\n",
    " The name itself specifies the meaning, demand paging is nothing but paging only. That means the given process or the logical address space of the process is divided into a number of equal size partitions called pages. Likewise, the main memory is also divided into a number of equal size partitions called frames. But here demand paging, the name itself specifies the meaning. Whenever there is a demand for the page, then only operating system loads that page into the main memory. That means CPU will execute a page whenever this page is resides in the main memory. That size of the process is 10 GB, but CPU cannot execute the entire process at once. We know that at a time CPU executes only one instruction. So depends upon the module, the corresponding page that needs to be executed will be loaded into the main memory, so that CPU execute that instruction. Let us take a movie, let we are watching a movie whose capacity is 10 GB, whereas our main memory capacity is 4 GB. Let we are at the first minute of the movie, then the first minute of that page will be loaded from secondary memory to the main memory. Let we are at tenth minute of the movie, then the first minute which is available in hot\n",
    " will be loaded from secondary memory to the main memory. Let we are at 10th minute of the movie. Then the first minute which is available in main memory will be moved to the hard disk and that 10th minute page will be loaded from secondary memory to the main memory. Let we are at some interval portion. Then that page interval page will be loaded from secondary memory to the main memory. So likewise CPU executes the process depending upon the demand. But here what is the point? At 8 am CPU executes only one instruction. So there is no need to load the entire process into the main memory at once. Depending upon the user request, CPU loads that page from secondary memory to the main memory. So that is why this is called as demand paging. So virtual memory is implemented using demand paging. Here virtual, virtual means not real, it is an illusion, an imaginary. Virtual memory is an imaginary memory. By using virtual memory we can execute a process even if process size is greater than the main memory. So let us see this diagram. Now let us see this diagram swapping between main memory and secondary memory. So this is our main memory. This is secondary memory. Let us assume that CPU is executing program A. Let program A has completed all its operations. So then there is no need of CPU for program A. Why because program A has completed all its operations. Then the pages of program A are moved from main memory to the secondary memory.\n",
    " Then the pages of program A are moved from main memory to the secondary memory. This activity is known as swap out. So swap out means moving the pages of the program from main memory to the secondary memory and let us assume that CPU is free. That means CPU is ready for executing a program. Then operating system loads the pages from or the program from the secondary memory to the main memory. Why? Because we know that CPU executes a program when it resides in main memory only. So whenever the CPU is free, then the operating system loads the pages of the program from secondary memory to the main memory. So let it, that is nothing but program B. So program B pages are moved from the secondary memory to the main memory. Why? Because CPU is ready for execution and this process is known as swapping. So swapping means moving the pages of the program from secondary memory to the main memory. So with this the demand paging will be implemented. So whenever there is a demand for the page, then the operating system moves that page from secondary memory to the main memory. So once that page execution was over, then that page will be moved from main memory to the secondary memory. Now let us see this diagram. Page stable when some pages are not in the main memory. So this is nothing but our process or logical memory. This is nothing but page stable. This one.\n",
    " or not in the main memory. So, this is nothing, but our process or logical memory. This is nothing, but base table. This one main memory or physical memory. So, this one secondary memory. So, let initially we know that secondary memory contains a number of processes. Let here secondary memory contains process A pages. Here process A totally contains 4 pages A, B, C, D. So, this A, B, C, D. So, A, B, C, D pages are available in secondary memory. In addition to that secondary memory may contains other process pages also. So, this is process or logical memory. So, totally here our process contains 4 pages. The first page is A, second page is B, third page is C, fourth page is D. So, A means page number 0, B means page number 1, C means page number 2, D means page number 3. So, this is a base table. We know that page table accepts page number as the input and produces frame memory as the output. Here for protection bit we using B and A, B and I. In paging concept, B specifies that the corresponding page number belonging to the process, B stands for valid bit, whereas I stands for invalid bit. In paging concept, I specifies that this page number does not belong to the process. So, in paging, B specifies that the corresponding page belongs to the process, whereas I specifies that the corresponding page does not belongs to the process. Whereas in paging concept, whereas in demand paging concept, this B specifies that this page number present in the main memory, B stands for valid bit.\n",
    " This page number present in the main memory, V stands for valid bit, whereas I stands for invalid bit. Here I specifies that this page number is not present in the main memory. If you observe the first row, it specifies that page number 0 is present in the main memory of frame 2nd. So, frame number 2nd contains page number 0, page number 0 is nothing but A. Here this page is present in the main memory, so the protection bit is valid, V. If we observe the second row, 1, here there is no data. That means this page number 1 is not present in the main memory. Here the protection bit is invalid. So invalid specifies that the page number 1 not present in the main memory. If we observe this row, it specifies that page number 2 present in the main memory of frame 5. So 5th frame contains page number 2, page number 2 means C. So here the protection bit is valid. Why? Because this page number is present in the main memory. So likewise the last page number does not available in the main memory, so the protection bit is I. Now let us see about page fault. When CPU needs to execute a page, then it checks whether that page is available in main memory or not. If the page is available in main memory, then there is no problem. CPU executes that page. If the page is not present in the main memory, then it is called as page fault. So whenever page fault occurs, then we have to perform some steps. Let us see those steps now.\n",
    " Then it is called as PACE FAULT. So whenever PACE FAULT occurs, then we have to perform some steps. Let's see those steps now. Now let's see this diagram. Steps in handling a PACE FAULT. Let's see the first step here. So whenever CPU needs to execute a PACE, then it checks whether that PACE is present in PACE table or not. So this is the first step here. Here the PACE contains an instruction called LOADYUM. But here what is the production bit here? I is the production bit. I means invalid. So invalid specifies that this PACE number is not present in the main memory. So that is the first step. Now let's see the second step. Here the PACE is not present in the main memory. So CPU generates an interrupt called TRAP to the operating system. This is the second step. Next third step, operating system checks where that PACE is present in the secondary memory. So this is our secondary memory. So it checks where that PACE is present in the secondary memory. Next fourth step, operating system loads that PACE from secondary memory to a free frame of the main memory. So this is the fourth step. Now our main memory contains the corresponding frame. So we have to change the production bit here. So we can change as this I should be changed to V. Why because now the PACE number is present in the main memory. Next, as well as this frame number information will also be specified here. So this is the 5th step. So this is the 5th step. Next, we have to change the production bit here. So we can change as this I should be changed to V. Why because now the PACE number is present in the main memory. Next, as well as this frame number information will also be specified here. So this is the 6th step. Next, we have to change the production bit here. So this is the 7th step.\n",
    " As well as this frame number information will also be specified here. So, this is nothing but fifth step, reset the page table and the last step is CPU restarts execution of the instruction. So, totally we have 6 steps. So, what is the first step here? So, whenever CPU needs to execute a page, then it checks whether that page is present in the main memory or not. Here main memory means this page table is available in main memory only ok. But here what is the protection with here? I. So, I specifies that this page number is not present in the main memory. So, this is the first step and what is the second step? Operating system generates a trap or interrupt to the, I am sorry, yeah CPU. CPU generates a trap or interrupt to the operating system. So, this is the second step. Next third step, operating system checks where that page is present in the secondary memory. So, this is the corresponding page. Next fourth step, operating system loads that page from secondary memory to a free frame of the main memory. Next fifth step, now the main memory contains the corresponding page so that this information should be updated in the page table by changing I to V and placing F, F means frame number and the last step is CPU restarts executing the instruction. So, this is about virtual memory or demand paging or page faults. So, in the examination if the question is given on virtual memory or demand paging or some page faults, so this answer is enough.\"\"\"\n",
    "\n",
    "evaluate_transcription(transcribed_text, reference_text)\n"
   ]
  },
  {
   "cell_type": "code",
   "execution_count": null,
   "metadata": {},
   "outputs": [],
   "source": []
  }
 ],
 "metadata": {
  "kernelspec": {
   "display_name": "tf",
   "language": "python",
   "name": "python3"
  },
  "language_info": {
   "codemirror_mode": {
    "name": "ipython",
    "version": 3
   },
   "file_extension": ".py",
   "mimetype": "text/x-python",
   "name": "python",
   "nbconvert_exporter": "python",
   "pygments_lexer": "ipython3",
   "version": "3.10.13"
  }
 },
 "nbformat": 4,
 "nbformat_minor": 2
}
